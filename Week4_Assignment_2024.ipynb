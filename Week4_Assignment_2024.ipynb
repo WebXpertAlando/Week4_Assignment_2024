{
 "cells": [
  {
   "cell_type": "markdown",
   "metadata": {},
   "source": [
    "### Week4_Assignment  Bootcamp\n",
    "<hr>"
   ]
  },
  {
   "cell_type": "markdown",
   "metadata": {},
   "source": [
    "#### 1. Write a Python program to check whether a string is a palindrome or not using a stack."
   ]
  },
  {
   "cell_type": "code",
   "execution_count": 2,
   "metadata": {},
   "outputs": [
    {
     "name": "stdout",
     "output_type": "stream",
     "text": [
      "Enter a string to check if the word is a palindrome: data\n",
      "'data' is not a palindrome.\n"
     ]
    }
   ],
   "source": [
    "def is_palindrome(input_string):\n",
    "    # Remove any non-alphanumeric characters and convert to lowercase\n",
    "    my_string = ''.join(char.lower() for char in input_string if char.isalnum())\n",
    "\n",
    "    # Compare the cleaned string with its reverse\n",
    "    return my_string == my_string[::-1]\n",
    "\n",
    "# Input string\n",
    "input_string_word = input(\"Enter a string to check if the word is a palindrome: \")\n",
    "\n",
    "# Check if the input string is a palindrome\n",
    "if is_palindrome(input_string_word):\n",
    "    print(f\"'{input_string_word}' is a palindrome.\")\n",
    "else:\n",
    "    print(f\"'{input_string_word}' is not a palindrome.\")"
   ]
  },
  {
   "cell_type": "markdown",
   "metadata": {},
   "source": [
    "### 2).Explain the concept of list comprehension in Python with at least three examples"
   ]
  },
  {
   "cell_type": "markdown",
   "metadata": {},
   "source": [
    "#### Lists Comprehension in Python\n",
    "<hr>\n",
    "Python lists are used to store elements of text inside a square bracket separated by commas. List contains characteristics namely;\n",
    "\n",
    "List comprehension offers a concise way to create a new list based on the values of an existing list by applying an expression. \n",
    "\n",
    "\n",
    "Suppose we have a list of numbers and we desire to create a new list containing the double value of each element in the list."
   ]
  },
  {
   "cell_type": "markdown",
   "metadata": {},
   "source": [
    "#### List Comprehension Syntax\n",
    "<hr>\n",
    "![pic1.png](attachment:pic1.png)\n",
    "\n",
    "Here, for every num in our list, execute the expression by doubling the list by 2.\n",
    "\n"
   ]
  },
  {
   "cell_type": "markdown",
   "metadata": {},
   "source": [
    "#### List Comprehension with for Loop\n",
    "<hr>\n",
    "\n",
    "For our code to look organized and more cleaner, we will use for loop. Let's write a program to print the square of each list element using both for loop and list comprehension.\n",
    "\n",
    "#### Example 1: Square Numbers\n"
   ]
  },
  {
   "cell_type": "code",
   "execution_count": 4,
   "metadata": {},
   "outputs": [
    {
     "name": "stdout",
     "output_type": "stream",
     "text": [
      "[100, 400, 1225, 2025, 3249]\n"
     ]
    }
   ],
   "source": [
    "numbers = [10, 20, 35, 45, 57]\n",
    "square_numbers = []\n",
    "\n",
    "# for loop to square each elements\n",
    "for num in numbers:\n",
    "    square_numbers.append(num * num)\n",
    "    \n",
    "print(square_numbers)\n",
    "\n"
   ]
  },
  {
   "cell_type": "markdown",
   "metadata": {},
   "source": [
    "In the above exampe the list, the  variable (square_numbers) has taken the append method with the multiplication argument to give the final result. Note that we in for loop, we use normal brackets to loop the variable."
   ]
  },
  {
   "cell_type": "markdown",
   "metadata": {},
   "source": [
    "#### Example 2: Filtering Even Numbers\n",
    "\n",
    "Now when filtering even numbers, we make sure that only even numbers are included; Lets try a list below to get an even number using list comprehension.\n",
    "\n"
   ]
  },
  {
   "cell_type": "code",
   "execution_count": 6,
   "metadata": {},
   "outputs": [
    {
     "name": "stdout",
     "output_type": "stream",
     "text": [
      "[2, 4, 6, 8, 10, 12, 14]\n"
     ]
    }
   ],
   "source": [
    "numbers = [1, 2, 3, 4, 5, 6, 7, 8, 9, 10, 11, 12, 13, 14]\n",
    "\n",
    "even_numbers = [x for x in numbers if x % 2 == 0 ]\n",
    "\n",
    "print(even_numbers)"
   ]
  },
  {
   "cell_type": "markdown",
   "metadata": {},
   "source": [
    "Here it means that for every x in our numbers, x will be look for a number that is divisible by 2 we say that if `x %2 ==0` in our list, then it will print the number using the print  even_numbers method."
   ]
  },
  {
   "cell_type": "markdown",
   "metadata": {},
   "source": [
    "#### Example 3: String Transformation\n",
    "\n",
    "We can use list comprehension to transform a string in a list. Let use a list comprehension to capitalized each word."
   ]
  },
  {
   "cell_type": "code",
   "execution_count": 6,
   "metadata": {},
   "outputs": [
    {
     "name": "stdout",
     "output_type": "stream",
     "text": [
      "['Nairobi', 'Kisumu', 'Eldoret', 'Nakuru', 'Kericho', 'Garissa']\n"
     ]
    }
   ],
   "source": [
    "letters = [\"nairobi\", \"kisumu\", \"eldoret\", \"nakuru\", \"kericho\", \"garissa\"]\n",
    "\n",
    "capital_letters = [letter.capitalize() for letter in letters]\n",
    "\n",
    "print(capital_letters)"
   ]
  },
  {
   "cell_type": "markdown",
   "metadata": {},
   "source": [
    "### 3. Explain what a compound datatype is in Python with three examples.\n",
    "\n",
    "A compound datatype in python is a datatype that has capability to hold multiple values or elements of different types by only using a single name. The values are usually stored in an order whereby the compound datatype provides the order of which the values are accessed, modified or managed.\n",
    "\n",
    "#### Example 1: List\n",
    "A Python list is a dynamic, mutable, ordered collection of elements enclosed within square brackets [] These elements, called items or values, can be of different data types – numbers, strings, booleans, and even other lists (creating nested structures)."
   ]
  },
  {
   "cell_type": "code",
   "execution_count": 15,
   "metadata": {},
   "outputs": [
    {
     "name": "stdout",
     "output_type": "stream",
     "text": [
      "[2, 'Windows', 4.45, [8, 3]]\n",
      "2\n",
      "Windows\n",
      "4.45\n",
      "[8, 3]\n"
     ]
    }
   ],
   "source": [
    "python_list = [2, \"Windows\", 4.45, [8, 3]]\n",
    "print(python_list)  \n",
    "\n",
    "# To print a specific value in the list. We access the list using list indexing e.g pythn_list[0] means that we are accessing the first value in the list column.\n",
    "print(python_list[0]) # Output interger value 2\n",
    "print(python_list[1]) #Output a string value \"Windows\" \n",
    "print(python_list[2]) # Outputs a float 4.45\n",
    "\n",
    "print(python_list[3]) #Outputs a nested structure [8, 3]\n"
   ]
  },
  {
   "cell_type": "markdown",
   "metadata": {},
   "source": [
    "#### Example 2: Tuple\n",
    "Python tuples are a type of data structure that is very similar to lists. The main difference between the two is that tuples are immutable, meaning they cannot be changed once they are created. This makes them ideal for storing data that should not be modified, such as database records."
   ]
  },
  {
   "cell_type": "code",
   "execution_count": 17,
   "metadata": {},
   "outputs": [
    {
     "name": "stdout",
     "output_type": "stream",
     "text": [
      "(78, 'Camera', 8.718)\n"
     ]
    }
   ],
   "source": [
    "python_tuple = (78, \"Camera\", 8.718)\n",
    "print(python_tuple)  "
   ]
  },
  {
   "cell_type": "markdown",
   "metadata": {},
   "source": [
    "In tuple, we use the same indexing criterion to access the values of a tuple."
   ]
  },
  {
   "cell_type": "markdown",
   "metadata": {},
   "source": [
    "#### Example 3: Dictionary\n",
    "\n",
    "Dictionaries are used to store data values in key:value pairs. A dictionary is a collection which is ordered*, changeable and do not allow duplicates."
   ]
  },
  {
   "cell_type": "code",
   "execution_count": 18,
   "metadata": {},
   "outputs": [
    {
     "name": "stdout",
     "output_type": "stream",
     "text": [
      "{'Car': 'Subaru', 'cc': 25000, 'is_Fuel': True}\n"
     ]
    }
   ],
   "source": [
    "python_dict = {\"Car\": \"Subaru\", \"cc\": 25000, \"is_Fuel\": True}\n",
    "print(python_dict)  "
   ]
  },
  {
   "cell_type": "markdown",
   "metadata": {},
   "source": [
    "In this example, python_dict is a dictionary where the keys are strings (\"Car\", \"cc\", \"is_Fuel\") and the values are of different types (string, integer, and boolean). Dictionaries are written with curly brackets {}, and have keys and values pairs:"
   ]
  },
  {
   "cell_type": "markdown",
   "metadata": {},
   "source": [
    "#### 4. Write a function that takes a string and returns a list of bigrams."
   ]
  },
  {
   "cell_type": "code",
   "execution_count": 20,
   "metadata": {},
   "outputs": [
    {
     "name": "stdout",
     "output_type": "stream",
     "text": [
      "['il', 'lo', 'ov', 've', 'ed', 'da', 'at', 'ta', 'ae', 'en', 'ng', 'gi', 'in', 'ne', 'ee', 'er', 'ri', 'in', 'ng', 'g!']\n"
     ]
    }
   ],
   "source": [
    "def get_string_bigrams(text):\n",
    "    # Remove whitespace and convert to lowercase\n",
    "    text = ''.join(text.split()).lower()\n",
    "    \n",
    "    # Generate bigrams\n",
    "    bigrams = [text[i:i+2] for i in range(len(text) - 1)]\n",
    "    \n",
    "    return bigrams\n",
    "\n",
    "# Example usage\n",
    "my_text = \"I love Data Engineering!\"\n",
    "result = get_string_bigrams(my_text)\n",
    "print(result)"
   ]
  },
  {
   "cell_type": "markdown",
   "metadata": {},
   "source": [
    "In the example above, we call a function get_string_bigrams with a text input argument. Then the function removes the white and splitting the text using the lower method. Now we generate the bigram by iterating through our string text to return a bigram and finally we print."
   ]
  },
  {
   "cell_type": "markdown",
   "metadata": {},
   "source": [
    "#### 5. Given a dictionary with keys as letters and values as lists of letters, write a function closest_key to find the key with the input value closest to the beginning of the list. "
   ]
  },
  {
   "cell_type": "code",
   "execution_count": 21,
   "metadata": {},
   "outputs": [
    {
     "name": "stdout",
     "output_type": "stream",
     "text": [
      "The closest key for 'X' is: A\n"
     ]
    }
   ],
   "source": [
    "def closest_key(dictionary, value):\n",
    "    min_index = float('inf')\n",
    "    closest_key = None\n",
    "\n",
    "    for key, letter_list in dictionary.items():\n",
    "        if value in letter_list:\n",
    "            current_index = letter_list.index(value)\n",
    "            if current_index < min_index:\n",
    "                min_index = current_index\n",
    "                closest_key = key\n",
    "\n",
    "    return closest_key\n",
    "\n",
    "# Example usage\n",
    "example_dict = {\n",
    "    'A': ['X', 'Y', 'Z'],\n",
    "    'B': ['P', 'Q', 'R', 'X'],\n",
    "    'C': ['M', 'N', 'X', 'O']\n",
    "}\n",
    "\n",
    "result = closest_key(example_dict, 'X')\n",
    "print(f\"The closest key for 'X' is: {result}\")"
   ]
  },
  {
   "cell_type": "markdown",
   "metadata": {},
   "source": [
    "1. We define the function closest_key that takes two parameters: dictionary (the input dictionary) and value (the letter we're searching for).\n",
    "2. We initialize min_index with positive infinity (float('inf')) and closest_key with None. These will keep track of the smallest index found and its corresponding key.\n",
    "3. We iterate through each key-value pair in the dictionary using dictionary.items().\n",
    "4. For each list of letters (value in the dictionary), we check if our target value is in the list using if value in letter_list.\n",
    "5. If the value is found, we get its index in the current list using letter_list.index(value).\n",
    "6. We compare this index with our current min_index. If it's smaller, we update min_index and closest_key.\n",
    "7. After checking all keys, we return the closest_key.\n",
    "8. In the example usage, we create a sample dictionary and test the function with the value 'X'.\n",
    "\n",
    "9. This function will return the key where the given value appears earliest in its corresponding list. \n",
    "10. If the value isn't found in any list, the function will return None."
   ]
  },
  {
   "cell_type": "markdown",
   "metadata": {},
   "source": [
    "___________)))):::::________________________End_____________________))))"
   ]
  }
 ],
 "metadata": {
  "kernelspec": {
   "display_name": "Python 3",
   "language": "python",
   "name": "python3"
  },
  "language_info": {
   "codemirror_mode": {
    "name": "ipython",
    "version": 3
   },
   "file_extension": ".py",
   "mimetype": "text/x-python",
   "name": "python",
   "nbconvert_exporter": "python",
   "pygments_lexer": "ipython3",
   "version": "3.7.6"
  }
 },
 "nbformat": 4,
 "nbformat_minor": 4
}
